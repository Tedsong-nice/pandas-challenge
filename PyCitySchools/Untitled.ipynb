{
 "cells": [
  {
   "cell_type": "code",
   "execution_count": null,
   "id": "41a7e6de-ca1c-49ee-89d0-10b4f96a6d57",
   "metadata": {},
   "outputs": [],
   "source": []
  }
 ],
 "metadata": {
  "kernelspec": {
   "display_name": "",
   "name": ""
  },
  "language_info": {
   "name": ""
  }
 },
 "nbformat": 4,
 "nbformat_minor": 5
}
